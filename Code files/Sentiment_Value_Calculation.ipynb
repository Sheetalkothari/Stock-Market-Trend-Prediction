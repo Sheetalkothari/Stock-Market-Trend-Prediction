{
 "cells": [
  {
   "cell_type": "code",
   "execution_count": null,
   "id": "46a9eb59",
   "metadata": {},
   "outputs": [],
   "source": [
    "!pip install pandas requests_html transformers scipy"
   ]
  },
  {
   "cell_type": "code",
   "execution_count": 2,
   "id": "3ee7fbca",
   "metadata": {},
   "outputs": [],
   "source": [
    "import pandas as pd\n",
    "from requests_html import HTMLSession \n",
    "from transformers import AutoTokenizer, AutoModelForSequenceClassification\n",
    "from scipy.special import softmax\n",
    "import os"
   ]
  },
  {
   "cell_type": "code",
   "execution_count": 3,
   "id": "89ae3200",
   "metadata": {},
   "outputs": [],
   "source": [
    "current_dir = os.getcwd()\n",
    "News_file_path = os.path.join(current_dir, 'Data files', 'News_Sentiments.csv')\n",
    "\n"
   ]
  },
  {
   "cell_type": "code",
   "execution_count": 4,
   "id": "2a425ed6",
   "metadata": {},
   "outputs": [],
   "source": [
    "\n",
    "roberta = \"cardiffnlp/twitter-roberta-base-sentiment\"\n",
    "model = AutoModelForSequenceClassification.from_pretrained(roberta)\n",
    "tokenizer = AutoTokenizer.from_pretrained(roberta)\n",
    "\n",
    "labels = ['Negative', 'Neutral', 'Positive']\n",
    "\n",
    "# Loading the file\n",
    "news_df  = pd.read_csv(News_file_path, encoding='utf-8')\n",
    "\n",
    "# Perform sentiment analysis\n",
    "news_proc_list = []\n",
    "sentiment_list = []\n",
    "\n",
    "for headlines in news_df['Headlines']:\n",
    "    news_words = []\n",
    "    for word in headlines.split(' '):\n",
    "        if word.startswith('http'):\n",
    "            word = \"http\"\n",
    "        news_words.append(word)\n",
    "\n",
    "    news_proc = \" \".join(news_words)\n",
    "    news_proc_list.append(news_proc)\n",
    "\n",
    "    encoder_news = tokenizer(news_proc, return_tensors='pt')\n",
    "    output = model(**encoder_news)\n",
    "    scores = output.logits.detach().numpy()[0]\n",
    "    scores = softmax(scores)\n",
    "\n",
    "    sentiment = {label: score for label, score in zip(labels, scores)}\n",
    "    sentiment_list.append(sentiment)\n",
    "\n",
    "# Append sentiment labels\n",
    "sentiment_df = pd.DataFrame(sentiment_list)\n",
    "news_df = pd.concat([news_df, sentiment_df], axis=1)\n",
    "\n",
    "# Determine sentiment with the highest value\n",
    "news_df['Actual Sentiment'] = news_df[labels].idxmax(axis=1)\n",
    "news_df['Sentiment value'] = news_df[labels].max(axis=1)\n",
    "\n",
    "# Save the updated DataFrame to a new file\n",
    "output_file_path = \"NewsSentiments.csv\"  \n",
    "news_df.to_csv(output_file_path, encoding='utf-8', index=False)\n"
   ]
  }
 ],
 "metadata": {
  "kernelspec": {
   "display_name": "Python 3 (ipykernel)",
   "language": "python",
   "name": "python3"
  },
  "language_info": {
   "codemirror_mode": {
    "name": "ipython",
    "version": 3
   },
   "file_extension": ".py",
   "mimetype": "text/x-python",
   "name": "python",
   "nbconvert_exporter": "python",
   "pygments_lexer": "ipython3",
   "version": "3.9.13"
  }
 },
 "nbformat": 4,
 "nbformat_minor": 5
}
